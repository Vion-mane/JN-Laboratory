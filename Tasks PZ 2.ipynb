{
 "cells": [
  {
   "cell_type": "markdown",
   "id": "c32376fc-bcc5-4549-bfef-aa9d1f47142c",
   "metadata": {},
   "source": [
    "***Задание 1. Создание и изменение массивов***"
   ]
  },
  {
   "cell_type": "code",
   "execution_count": 9,
   "id": "34730242-350f-4582-87ee-8390a809cbe6",
   "metadata": {},
   "outputs": [
    {
     "name": "stdout",
     "output_type": "stream",
     "text": [
      "[[1 2 3]\n",
      " [4 5 6]\n",
      " [7 8 9]]\n",
      "[[ 2  4  6]\n",
      " [ 8 10 12]\n",
      " [14 16 18]]\n",
      "[[ 2  4  6]\n",
      " [ 8 10  0]\n",
      " [ 0  0  0]]\n"
     ]
    }
   ],
   "source": [
    "import numpy as np\n",
    "arr = np.arange(1, 10).reshape(3, 3)\n",
    "print(arr)\n",
    "\n",
    "arr = arr * 2\n",
    "print(arr)\n",
    "\n",
    "arr[arr > 10] = 0\n",
    "print(arr)"
   ]
  },
  {
   "cell_type": "markdown",
   "id": "9be4410f-561f-4379-a5c9-0537a8820e5a",
   "metadata": {},
   "source": [
    "***Задание 2. Работа с булевыми масками***"
   ]
  },
  {
   "cell_type": "code",
   "execution_count": 29,
   "id": "aaed6609-36a7-46a1-a095-2f0714ffa688",
   "metadata": {},
   "outputs": [
    {
     "name": "stdout",
     "output_type": "stream",
     "text": [
      "[59 90 92 47 29  7 62 50 32 57 37 91 43 60 65 60 94 77 20 36]\n",
      "\n",
      "Элементы кратные 5:\n",
      "[90 50 60 65 60 20]\n",
      "\n",
      "Новый массив:\n",
      "[59 -1 92 47 29  7 62 -1 32 57 37 91 43 -1 -1 -1 94 77 -1 36]\n"
     ]
    }
   ],
   "source": [
    "import numpy as np\n",
    "arr = np.random.randint(1, 101, 20)\n",
    "print(arr)\n",
    "deletsy_na_5 = arr[arr % 5 == 0]\n",
    "print(\"\\nЭлементы кратные 5:\")\n",
    "print(deletsy_na_5)\n",
    "arr[arr % 5 == 0] = -1\n",
    "print(\"\\nНовый массив:\")\n",
    "print(arr)"
   ]
  },
  {
   "cell_type": "markdown",
   "id": "9823bce9-ff09-4ceb-91ed-59bb9336e65e",
   "metadata": {},
   "source": [
    "***Задание 3. Объединение и разбиение массивов***"
   ]
  },
  {
   "cell_type": "code",
   "execution_count": 41,
   "id": "f32fc736-8e0e-43ca-932a-d8bfc80f6d42",
   "metadata": {},
   "outputs": [
    {
     "name": "stdout",
     "output_type": "stream",
     "text": [
      "\n",
      "Первый массив\n",
      "[48  3 32 50 44]\n",
      "\n",
      "Второй массив\n",
      "[45 34 36 11 48]\n",
      "\n",
      "Объединенный массив:\n",
      "[[48  3 32 50 44]\n",
      " [45 34 36 11 48]]\n",
      "\n",
      "Разделенный массив 1:\n",
      "[[48  3 32 50 44]]\n",
      "\n",
      "Разделенный массив 2:\n",
      "[[45 34 36 11 48]]\n"
     ]
    }
   ],
   "source": [
    "import numpy as np\n",
    "arr1 = np.random.randint(0, 51, 5)\n",
    "print(\"\\nПервый массив\")\n",
    "print(arr1)\n",
    "arr2 = np.random.randint(0, 51, 5)\n",
    "print(\"\\nВторой массив\")\n",
    "print(arr2)\n",
    "combined = np.vstack((arr1, arr2))\n",
    "print(\"\\nОбъединенный массив:\")\n",
    "print(combined)\n",
    "split1, split2 = np.vsplit(combined, 2)\n",
    "print(\"\\nРазделенный массив 1:\")\n",
    "print(split1)\n",
    "print(\"\\nРазделенный массив 2:\")\n",
    "print(split2)"
   ]
  },
  {
   "cell_type": "markdown",
   "id": "ced9655d-7cd4-46c5-ab5e-64639e969b5c",
   "metadata": {},
   "source": [
    "***Задание 4. Генерация и работа с линейными последовательностями***"
   ]
  },
  {
   "cell_type": "code",
   "execution_count": 49,
   "id": "7c6c5227-732d-4d76-a2ea-1551b3cea96e",
   "metadata": {},
   "outputs": [
    {
     "name": "stdout",
     "output_type": "stream",
     "text": [
      "\n",
      "Массив\n",
      "[-10.          -9.59183673  -9.18367347  -8.7755102   -8.36734694\n",
      "  -7.95918367  -7.55102041  -7.14285714  -6.73469388  -6.32653061\n",
      "  -5.91836735  -5.51020408  -5.10204082  -4.69387755  -4.28571429\n",
      "  -3.87755102  -3.46938776  -3.06122449  -2.65306122  -2.24489796\n",
      "  -1.83673469  -1.42857143  -1.02040816  -0.6122449   -0.20408163\n",
      "   0.20408163   0.6122449    1.02040816   1.42857143   1.83673469\n",
      "   2.24489796   2.65306122   3.06122449   3.46938776   3.87755102\n",
      "   4.28571429   4.69387755   5.10204082   5.51020408   5.91836735\n",
      "   6.32653061   6.73469388   7.14285714   7.55102041   7.95918367\n",
      "   8.36734694   8.7755102    9.18367347   9.59183673  10.        ]\n",
      "\n",
      "Общая сумма: 7.105427357601002e-15\n",
      "\n",
      "Сумма положительных элементов: 127.55102040816328\n",
      "\n",
      "Сумма отрицательных элементов: -127.55102040816327\n"
     ]
    }
   ],
   "source": [
    "arr = np.linspace(-10, 10, 50)\n",
    "print(\"\\nМассив\")\n",
    "print(arr)\n",
    "total_sum = np.sum(arr)\n",
    "positive_sum = np.sum(arr[arr > 0])\n",
    "negative_sum = np.sum(arr[arr < 0])\n",
    "print(f\"\\nОбщая сумма: {total_sum}\")\n",
    "print(f\"\\nСумма положительных элементов: {positive_sum}\")\n",
    "print(f\"\\nСумма отрицательных элементов: {negative_sum}\")"
   ]
  },
  {
   "cell_type": "markdown",
   "id": "b8b1d7af-cf7b-4a1f-b7b1-aaf9f6308151",
   "metadata": {},
   "source": [
    "***Задание 5. Работа с диагональными и единичными матрицами***"
   ]
  },
  {
   "cell_type": "code",
   "execution_count": 53,
   "id": "f5ab4c15-49d9-4e2c-a3af-58f93aef7c3e",
   "metadata": {},
   "outputs": [
    {
     "name": "stdout",
     "output_type": "stream",
     "text": [
      "Единичная матрица 4×4:\n",
      "[[1. 0. 0. 0.]\n",
      " [0. 1. 0. 0.]\n",
      " [0. 0. 1. 0.]\n",
      " [0. 0. 0. 1.]]\n",
      "\n",
      "Диагональная матрица 4×4:\n",
      "[[ 5  0  0  0]\n",
      " [ 0 10  0  0]\n",
      " [ 0  0 15  0]\n",
      " [ 0  0  0 20]]\n",
      "\n",
      "Сумма элементов единичной матрицы: 4.0\n",
      "Сумма элементов диагональной матрицы: 50\n",
      "\n",
      "Сумма элементов диагональной матрицы больше\n"
     ]
    }
   ],
   "source": [
    "identity_matrix = np.eye(4)\n",
    "print(\"Единичная матрица 4×4:\")\n",
    "print(identity_matrix)\n",
    "diagonal_matrix = np.diag([5, 10, 15, 20])\n",
    "print(\"\\nДиагональная матрица 4×4:\")\n",
    "print(diagonal_matrix)\n",
    "sum_identity = np.sum(identity_matrix)\n",
    "sum_diagonal = np.sum(diagonal_matrix)\n",
    "print(f\"\\nСумма элементов единичной матрицы: {sum_identity}\")\n",
    "print(f\"Сумма элементов диагональной матрицы: {sum_diagonal}\")\n",
    "if sum_identity > sum_diagonal:\n",
    "    print(\"\\nСумма элементов единичной матрицы больше\")\n",
    "elif sum_identity < sum_diagonal:\n",
    "    print(\"\\nСумма элементов диагональной матрицы больше\")\n",
    "else:\n",
    "    print(\"\\nСуммы элементов матриц равны\")"
   ]
  },
  {
   "cell_type": "markdown",
   "id": "a792b63f-063c-45e7-b984-87ec483e2d12",
   "metadata": {},
   "source": [
    "***Задание 6. Создание и базовые операции с матрицами***"
   ]
  },
  {
   "cell_type": "code",
   "execution_count": 57,
   "id": "ea232aef-2975-4f46-9e3f-357e9cba3bfe",
   "metadata": {},
   "outputs": [
    {
     "name": "stdout",
     "output_type": "stream",
     "text": [
      "\n",
      "Матрица 1:\n",
      "[[14  8  9]\n",
      " [15  2  2]\n",
      " [ 4 15 13]]\n",
      "\n",
      "Матрица 2:\n",
      "[[15 18  9]\n",
      " [ 6 11 11]\n",
      " [16 19 20]]\n",
      "\n",
      "Сумма элементов матрицы 1: 82\n",
      "Сумма элементов матрицы 2: 125\n"
     ]
    }
   ],
   "source": [
    "matrix1 = np.random.randint(1, 21, (3, 3))\n",
    "matrix2 = np.random.randint(1, 21, (3, 3))\n",
    "\n",
    "print(\"\\nМатрица 1:\")\n",
    "print(matrix1)\n",
    "print(\"\\nМатрица 2:\")\n",
    "print(matrix2)\n",
    "\n",
    "sum1 = np.sum(matrix1)\n",
    "sum2 = np.sum(matrix2)\n",
    "\n",
    "print(f\"\\nСумма элементов матрицы 1: {sum1}\")\n",
    "print(f\"Сумма элементов матрицы 2: {sum2}\")\n"
   ]
  },
  {
   "cell_type": "markdown",
   "id": "ee705669-3d15-41ae-8676-afa2d178e2a2",
   "metadata": {},
   "source": [
    "***Задание 7. Умножение матриц***"
   ]
  },
  {
   "cell_type": "code",
   "execution_count": 13,
   "id": "979e9203-bab2-4f34-bf89-26e9f2394bb6",
   "metadata": {},
   "outputs": [
    {
     "name": "stdout",
     "output_type": "stream",
     "text": [
      "Первая матрица (2x3):\n",
      "[[7 5 6]\n",
      " [9 1 8]]\n",
      "\n",
      "Вторая матрица (3x2):\n",
      "[[9 4]\n",
      " [1 8]\n",
      " [9 7]]\n",
      "\n",
      "Результат умножения матриц (2x2):\n",
      "[[122 110]\n",
      " [154 100]]\n"
     ]
    }
   ],
   "source": [
    "import numpy as np\n",
    "\n",
    "matrix1 = np.random.randint(1, 11, size=(2, 3))\n",
    "print(\"Первая матрица (2x3):\")\n",
    "print(matrix1)\n",
    "\n",
    "matrix2 = np.random.randint(1, 11, size=(3, 2))\n",
    "print(\"\\nВторая матрица (3x2):\")\n",
    "print(matrix2)\n",
    "\n",
    "result = matrix1 @ matrix2\n",
    "print(\"\\nРезультат умножения матриц (2x2):\")\n",
    "print(result)"
   ]
  },
  {
   "cell_type": "markdown",
   "id": "3014654b-e6e4-4dbf-a6f6-76a77b457d7e",
   "metadata": {},
   "source": [
    "***Задание 8. Определитель и обратная матрица***"
   ]
  },
  {
   "cell_type": "code",
   "execution_count": 16,
   "id": "2f04b310-ad66-4e21-896c-9fc7b4b88a7f",
   "metadata": {},
   "outputs": [
    {
     "name": "stdout",
     "output_type": "stream",
     "text": [
      "Исходная матрица 3x3:\n",
      "[[ 5  6  5]\n",
      " [ 5 10  7]\n",
      " [ 8  2  9]]\n",
      "\n",
      "Определитель матрицы: 96.00\n",
      "\n",
      "Обратная матрица:\n",
      "[[ 0.79166667 -0.45833333 -0.08333333]\n",
      " [ 0.11458333  0.05208333 -0.10416667]\n",
      " [-0.72916667  0.39583333  0.20833333]]\n"
     ]
    }
   ],
   "source": [
    "import numpy as np\n",
    "\n",
    "matrix = np.random.randint(1, 11, size=(3, 3))\n",
    "print(\"Исходная матрица 3x3:\")\n",
    "print(matrix)\n",
    "\n",
    "det = np.linalg.det(matrix)\n",
    "print(f\"\\nОпределитель матрицы: {det:.2f}\")\n",
    "\n",
    "if not np.isclose(det, 0):\n",
    "    inv_matrix = np.linalg.inv(matrix)\n",
    "    print(\"\\nОбратная матрица:\")\n",
    "    print(inv_matrix)\n",
    "else:\n",
    "    print(\"\\nМатрица вырождена (определитель равен 0), обратной матрицы не существует.\")"
   ]
  },
  {
   "cell_type": "markdown",
   "id": "45b42d34-a0ed-4a64-aa75-c5451a665345",
   "metadata": {},
   "source": [
    "***Задание 9. Транспонирование и след матрицы***"
   ]
  },
  {
   "cell_type": "code",
   "execution_count": 19,
   "id": "3bce2765-2230-43ce-a8e4-c18da5403a88",
   "metadata": {},
   "outputs": [
    {
     "name": "stdout",
     "output_type": "stream",
     "text": [
      "Исходная матрица 4x4:\n",
      "[[26  7 21 29]\n",
      " [ 4 40 44 50]\n",
      " [47 42 46 16]\n",
      " [39 17  6 21]]\n",
      "\n",
      "Транспонированная матрица:\n",
      "[[26  4 47 39]\n",
      " [ 7 40 42 17]\n",
      " [21 44 46  6]\n",
      " [29 50 16 21]]\n",
      "\n",
      "След матрицы (сумма диагональных элементов): 133\n"
     ]
    }
   ],
   "source": [
    "import numpy as np\n",
    "\n",
    "matrix = np.random.randint(1, 51, size=(4, 4))\n",
    "print(\"Исходная матрица 4x4:\")\n",
    "print(matrix)\n",
    "\n",
    "transposed_matrix = matrix.T\n",
    "print(\"\\nТранспонированная матрица:\")\n",
    "print(transposed_matrix)\n",
    "\n",
    "trace = np.trace(matrix)\n",
    "print(f\"\\nСлед матрицы (сумма диагональных элементов): {trace}\")"
   ]
  },
  {
   "cell_type": "markdown",
   "id": "28a241ea-66f0-48af-8b0c-6abc964cc629",
   "metadata": {},
   "source": [
    "***Задание 10. Системы линейных уравнений***"
   ]
  },
  {
   "cell_type": "code",
   "execution_count": 22,
   "id": "38665405-2213-4025-8509-2fb503adc090",
   "metadata": {},
   "outputs": [
    {
     "name": "stdout",
     "output_type": "stream",
     "text": [
      "Решение системы:\n",
      "x = 1.64\n",
      "y = 0.58\n",
      "z = 0.01\n"
     ]
    }
   ],
   "source": [
    "import numpy as np\n",
    "\n",
    "A = np.array([\n",
    "    [2, 3, -1],\n",
    "    [4, -1, 2],\n",
    "    [-3, 5, 4]\n",
    "])\n",
    "\n",
    "B = np.array([5, 6, -2])\n",
    "\n",
    "det_A = np.linalg.det(A)\n",
    "if not np.isclose(det_A, 0):\n",
    "    solution = np.linalg.solve(A, B)\n",
    "    \n",
    "    print(\"Решение системы:\")\n",
    "    print(f\"x = {solution[0]:.2f}\")\n",
    "    print(f\"y = {solution[1]:.2f}\")\n",
    "    print(f\"z = {solution[2]:.2f}\")\n",
    "else:\n",
    "    print(\"Система не имеет единственного решения (определитель матрицы коэффициентов равен 0)\")"
   ]
  },
  {
   "cell_type": "markdown",
   "id": "e60ceb49-8117-404d-8cc7-4f429edbfbec",
   "metadata": {},
   "source": [
    "***Задание 11. Индивидуальное задание***"
   ]
  },
  {
   "cell_type": "code",
   "execution_count": 25,
   "id": "9b5048fa-6185-4615-b211-abf0e8ae9ced",
   "metadata": {},
   "outputs": [
    {
     "name": "stdout",
     "output_type": "stream",
     "text": [
      "Решение методом Крамера:\n",
      "Металл 1: 20.00 кг\n",
      "Металл 2: 40.00 кг\n",
      "Металл 3: 40.00 кг\n",
      "\n",
      "Решение матричным методом:\n",
      "Металл 1: 20.00 кг\n",
      "Металл 2: 40.00 кг\n",
      "Металл 3: 40.00 кг\n",
      "\n",
      "Решение с помощью np.linalg.solve:\n",
      "Металл 1: 20.00 кг\n",
      "Металл 2: 40.00 кг\n",
      "Металл 3: 40.00 кг\n",
      "\n",
      "Проверка:\n",
      "Общий вес: 100.00 кг (должно быть 100 кг)\n",
      "Содержание железа: 72.00 кг (должно быть 72 кг)\n",
      "Соотношение x₂/x₁: 2.00 (должно быть 2)\n"
     ]
    }
   ],
   "source": [
    "import numpy as np\n",
    "\n",
    "A = np.array([\n",
    "    [1, 1, 1],\n",
    "    [0.6, 0.7, 0.8],\n",
    "    [-2, 1, 0]\n",
    "])\n",
    "\n",
    "B = np.array([100, 72, 0])\n",
    "\n",
    "# Метод Крамера\n",
    "def cramer_solve(A, B):\n",
    "    det_A = np.linalg.det(A)\n",
    "    if np.isclose(det_A, 0):\n",
    "        return None\n",
    "    \n",
    "    solutions = []\n",
    "    for i in range(A.shape[1]):\n",
    "        Ai = A.copy()\n",
    "        Ai[:, i] = B\n",
    "        det_Ai = np.linalg.det(Ai)\n",
    "        solutions.append(det_Ai / det_A)\n",
    "    \n",
    "    return np.array(solutions)\n",
    "\n",
    "# Матричный метод\n",
    "def matrix_solve(A, B):\n",
    "    try:\n",
    "        A_inv = np.linalg.inv(A)\n",
    "        return A_inv @ B\n",
    "    except np.linalg.LinAlgError:\n",
    "        return None\n",
    "\n",
    "# Решение всеми методами\n",
    "cramer_solution = cramer_solve(A, B)\n",
    "matrix_solution = matrix_solve(A, B)\n",
    "numpy_solution = np.linalg.solve(A, B)\n",
    "\n",
    "# Вывод результатов\n",
    "print(\"Решение методом Крамера:\")\n",
    "print(f\"Металл 1: {cramer_solution[0]:.2f} кг\")\n",
    "print(f\"Металл 2: {cramer_solution[1]:.2f} кг\")\n",
    "print(f\"Металл 3: {cramer_solution[2]:.2f} кг\")\n",
    "\n",
    "print(\"\\nРешение матричным методом:\")\n",
    "print(f\"Металл 1: {matrix_solution[0]:.2f} кг\")\n",
    "print(f\"Металл 2: {matrix_solution[1]:.2f} кг\")\n",
    "print(f\"Металл 3: {matrix_solution[2]:.2f} кг\")\n",
    "\n",
    "print(\"\\nРешение с помощью np.linalg.solve:\")\n",
    "print(f\"Металл 1: {numpy_solution[0]:.2f} кг\")\n",
    "print(f\"Металл 2: {numpy_solution[1]:.2f} кг\")\n",
    "print(f\"Металл 3: {numpy_solution[2]:.2f} кг\")\n",
    "\n",
    "# Проверка решения\n",
    "total_weight = numpy_solution.sum()\n",
    "iron_content = 0.6*numpy_solution[0] + 0.7*numpy_solution[1] + 0.8*numpy_solution[2]\n",
    "ratio = numpy_solution[1] / numpy_solution[0]\n",
    "\n",
    "print(\"\\nПроверка:\")\n",
    "print(f\"Общий вес: {total_weight:.2f} кг (должно быть 100 кг)\")\n",
    "print(f\"Содержание железа: {iron_content:.2f} кг (должно быть 72 кг)\")\n",
    "print(f\"Соотношение x₂/x₁: {ratio:.2f} (должно быть 2)\")"
   ]
  },
  {
   "cell_type": "code",
   "execution_count": null,
   "id": "18f7f73f-2e69-4995-9e15-77a67668fcfa",
   "metadata": {},
   "outputs": [],
   "source": []
  }
 ],
 "metadata": {
  "kernelspec": {
   "display_name": "Python [conda env:base] *",
   "language": "python",
   "name": "conda-base-py"
  },
  "language_info": {
   "codemirror_mode": {
    "name": "ipython",
    "version": 3
   },
   "file_extension": ".py",
   "mimetype": "text/x-python",
   "name": "python",
   "nbconvert_exporter": "python",
   "pygments_lexer": "ipython3",
   "version": "3.12.7"
  }
 },
 "nbformat": 4,
 "nbformat_minor": 5
}
